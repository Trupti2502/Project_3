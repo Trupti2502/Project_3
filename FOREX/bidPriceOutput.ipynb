{
 "cells": [
  {
   "cell_type": "code",
   "execution_count": 1,
   "id": "1fdde2cf",
   "metadata": {},
   "outputs": [
    {
     "name": "stdout",
     "output_type": "stream",
     "text": [
      "Requirement already satisfied: matplotlib in ./lib/python3.9/site-packages (3.4.3)\n",
      "Requirement already satisfied: pillow>=6.2.0 in ./lib/python3.9/site-packages (from matplotlib) (8.3.2)\n",
      "Requirement already satisfied: python-dateutil>=2.7 in ./lib/python3.9/site-packages (from matplotlib) (2.8.2)\n",
      "Requirement already satisfied: pyparsing>=2.2.1 in ./lib/python3.9/site-packages (from matplotlib) (2.4.7)\n",
      "Requirement already satisfied: kiwisolver>=1.0.1 in ./lib/python3.9/site-packages (from matplotlib) (1.3.2)\n",
      "Requirement already satisfied: numpy>=1.16 in ./lib/python3.9/site-packages (from matplotlib) (1.21.2)\n",
      "Requirement already satisfied: cycler>=0.10 in ./lib/python3.9/site-packages (from matplotlib) (0.10.0)\n",
      "Requirement already satisfied: six in ./lib/python3.9/site-packages (from cycler>=0.10->matplotlib) (1.16.0)\n",
      "Note: you may need to restart the kernel to use updated packages.\n"
     ]
    }
   ],
   "source": [
    "pip install matplotlib"
   ]
  },
  {
   "cell_type": "code",
   "execution_count": 2,
   "id": "57ea35fe",
   "metadata": {},
   "outputs": [
    {
     "name": "stdout",
     "output_type": "stream",
     "text": [
      "Requirement already satisfied: kafka-python in ./lib/python3.9/site-packages (2.0.2)\n",
      "Note: you may need to restart the kernel to use updated packages.\n"
     ]
    }
   ],
   "source": [
    "pip install kafka-python"
   ]
  },
  {
   "cell_type": "code",
   "execution_count": null,
   "id": "14277bde",
   "metadata": {},
   "outputs": [
    {
     "name": "stdout",
     "output_type": "stream",
     "text": [
      "Found existing installation: kafka-python 2.0.2\n",
      "Uninstalling kafka-python-2.0.2:\n",
      "  Would remove:\n",
      "    /home/ubuntu/my_project_dir/my_project_env/lib/python3.9/site-packages/kafka/*\n",
      "    /home/ubuntu/my_project_dir/my_project_env/lib/python3.9/site-packages/kafka_python-2.0.2.dist-info/*\n",
      "  Would not remove (might be manually added):\n",
      "    /home/ubuntu/my_project_dir/my_project_env/lib/python3.9/site-packages/kafka/client.py\n",
      "    /home/ubuntu/my_project_dir/my_project_env/lib/python3.9/site-packages/kafka/common.py\n",
      "    /home/ubuntu/my_project_dir/my_project_env/lib/python3.9/site-packages/kafka/consumer/base.py\n",
      "    /home/ubuntu/my_project_dir/my_project_env/lib/python3.9/site-packages/kafka/consumer/multiprocess.py\n",
      "    /home/ubuntu/my_project_dir/my_project_env/lib/python3.9/site-packages/kafka/consumer/simple.py\n",
      "    /home/ubuntu/my_project_dir/my_project_env/lib/python3.9/site-packages/kafka/context.py\n",
      "    /home/ubuntu/my_project_dir/my_project_env/lib/python3.9/site-packages/kafka/partitioner/base.py\n",
      "    /home/ubuntu/my_project_dir/my_project_env/lib/python3.9/site-packages/kafka/partitioner/hashed.py\n",
      "    /home/ubuntu/my_project_dir/my_project_env/lib/python3.9/site-packages/kafka/partitioner/roundrobin.py\n",
      "    /home/ubuntu/my_project_dir/my_project_env/lib/python3.9/site-packages/kafka/producer/base.py\n",
      "    /home/ubuntu/my_project_dir/my_project_env/lib/python3.9/site-packages/kafka/producer/keyed.py\n",
      "    /home/ubuntu/my_project_dir/my_project_env/lib/python3.9/site-packages/kafka/producer/simple.py\n",
      "    /home/ubuntu/my_project_dir/my_project_env/lib/python3.9/site-packages/kafka/protocol/legacy.py\n",
      "Proceed (Y/n)? "
     ]
    }
   ],
   "source": [
    "pip uninstall kafka-python"
   ]
  },
  {
   "cell_type": "code",
   "execution_count": 1,
   "id": "5f53421a",
   "metadata": {},
   "outputs": [],
   "source": [
    "import findspark\n",
    "findspark.init()"
   ]
  },
  {
   "cell_type": "code",
   "execution_count": 2,
   "id": "bf7906f4",
   "metadata": {},
   "outputs": [
    {
     "ename": "SyntaxError",
     "evalue": "invalid syntax (simple.py, line 54)",
     "output_type": "error",
     "traceback": [
      "Traceback \u001b[0;36m(most recent call last)\u001b[0m:\n",
      "  File \u001b[1;32m\"/home/ubuntu/my_project_dir/my_project_env/lib/python3.9/site-packages/IPython/core/interactiveshell.py\"\u001b[0m, line \u001b[1;32m3441\u001b[0m, in \u001b[1;35mrun_code\u001b[0m\n    exec(code_obj, self.user_global_ns, self.user_ns)\n",
      "  File \u001b[1;32m\"/tmp/ipykernel_6342/2982484148.py\"\u001b[0m, line \u001b[1;32m1\u001b[0m, in \u001b[1;35m<module>\u001b[0m\n    from kafka import KafkaConsumer\n",
      "  File \u001b[1;32m\"/home/ubuntu/my_project_dir/my_project_env/lib/python3.9/site-packages/kafka/__init__.py\"\u001b[0m, line \u001b[1;32m23\u001b[0m, in \u001b[1;35m<module>\u001b[0m\n    from kafka.producer import KafkaProducer\n",
      "\u001b[0;36m  File \u001b[0;32m\"/home/ubuntu/my_project_dir/my_project_env/lib/python3.9/site-packages/kafka/producer/__init__.py\"\u001b[0;36m, line \u001b[0;32m4\u001b[0;36m, in \u001b[0;35m<module>\u001b[0;36m\u001b[0m\n\u001b[0;31m    from .simple import SimpleProducer\u001b[0m\n",
      "\u001b[0;36m  File \u001b[0;32m\"/home/ubuntu/my_project_dir/my_project_env/lib/python3.9/site-packages/kafka/producer/simple.py\"\u001b[0;36m, line \u001b[0;32m54\u001b[0m\n\u001b[0;31m    return '<SimpleProducer batch=%s>' % self.async\u001b[0m\n\u001b[0m                                              ^\u001b[0m\n\u001b[0;31mSyntaxError\u001b[0m\u001b[0;31m:\u001b[0m invalid syntax\n"
     ]
    }
   ],
   "source": [
    "from kafka import KafkaConsumer\n",
    "import matplotlib.pyplot as plt\n",
    "import json\n",
    "import threading"
   ]
  },
  {
   "cell_type": "code",
   "execution_count": null,
   "id": "de23a83e",
   "metadata": {},
   "outputs": [],
   "source": [
    "consumer = KafkaConsumer('bidPriceOutput',\n",
    "                         group_id='bidPriceOutput',\n",
    "                         bootstrap_servers=['localhost:9092'],\n",
    "                        )\n",
    "print(\"consumer started ...\")"
   ]
  },
  {
   "cell_type": "code",
   "execution_count": null,
   "id": "9f4fdb5c",
   "metadata": {},
   "outputs": [],
   "source": [
    "x = {}"
   ]
  },
  {
   "cell_type": "code",
   "execution_count": null,
   "id": "8ac40971",
   "metadata": {},
   "outputs": [],
   "source": [
    "def plot():\n",
    "    global x\n",
    "    for message in consumer:\n",
    "        x[json.loads((message.value).decode(\"utf-8\"))[\"quoteTimestamp\"]] = json.loads((message.value).decode(\"utf-8\"))[\"bidPrice\"]"
   ]
  },
  {
   "cell_type": "code",
   "execution_count": null,
   "id": "5af19abd",
   "metadata": {},
   "outputs": [],
   "source": [
    "plot_thread = threading.Thread(target=plot)"
   ]
  },
  {
   "cell_type": "code",
   "execution_count": null,
   "id": "1869bb85",
   "metadata": {},
   "outputs": [],
   "source": [
    "plot_thread.start()"
   ]
  },
  {
   "cell_type": "code",
   "execution_count": null,
   "id": "f187076c",
   "metadata": {},
   "outputs": [],
   "source": [
    "try:\n",
    "    fig = plt.figure(figsize = (12, 6))\n",
    "    x = dict(sorted(x.items(), key=lambda item: item[1], reverse=True))\n",
    "\n",
    "    plt.bar([*x.keys()][:10], [*x.values()][:10], width = 0.5)\n",
    "\n",
    "    plt.xlabel(\"city\", fontsize=15)\n",
    "    plt.ylabel(\"No. of citys\", fontsize=15)\n",
    "    plt.title(\"Active US Cities In Meetup\", fontsize=15)\n",
    "    plt.show()\n",
    "except:\n",
    "    print(f\"atleast 10 data needed but {len(x)} data is there\")"
   ]
  },
  {
   "cell_type": "code",
   "execution_count": null,
   "id": "8bf4a390",
   "metadata": {},
   "outputs": [],
   "source": []
  }
 ],
 "metadata": {
  "kernelspec": {
   "display_name": "Python 3 (ipykernel)",
   "language": "python",
   "name": "python3"
  },
  "language_info": {
   "codemirror_mode": {
    "name": "ipython",
    "version": 3
   },
   "file_extension": ".py",
   "mimetype": "text/x-python",
   "name": "python",
   "nbconvert_exporter": "python",
   "pygments_lexer": "ipython3",
   "version": "3.9.5"
  }
 },
 "nbformat": 4,
 "nbformat_minor": 5
}
